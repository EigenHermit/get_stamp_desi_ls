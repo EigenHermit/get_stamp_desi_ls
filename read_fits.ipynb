{
 "cells": [
  {
   "cell_type": "code",
   "execution_count": 1,
   "id": "2a1c97ff",
   "metadata": {},
   "outputs": [],
   "source": [
    "from astropy.io import fits\n",
    "hud = fits.open('./name.fits') #need to be modified according to your needs\n",
    "real_lens_g=hud[0].data[0,:,:]\n",
    "real_lens_r=hud[0].data[1,:,:]\n",
    "real_lens_z=hud[0].data[2,:,:]"
   ]
  },
  {
   "cell_type": "code",
   "execution_count": null,
   "id": "e6d0e29b",
   "metadata": {},
   "outputs": [],
   "source": []
  }
 ],
 "metadata": {
  "kernelspec": {
   "display_name": "Python 3 (ipykernel)",
   "language": "python",
   "name": "python3"
  },
  "language_info": {
   "codemirror_mode": {
    "name": "ipython",
    "version": 3
   },
   "file_extension": ".py",
   "mimetype": "text/x-python",
   "name": "python",
   "nbconvert_exporter": "python",
   "pygments_lexer": "ipython3",
   "version": "3.9.13"
  }
 },
 "nbformat": 4,
 "nbformat_minor": 5
}
