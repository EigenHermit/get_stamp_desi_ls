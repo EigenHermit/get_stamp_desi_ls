from astropy.io import fits
hud = fits.open('./name.fits')
real_lens_g=hud[0].data[0,:,:]
real_lens_r=hud[0].data[1,:,:]
real_lens_z=hud[0].data[2,:,:]
